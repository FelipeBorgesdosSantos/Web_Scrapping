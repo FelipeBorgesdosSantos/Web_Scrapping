{
 "cells": [
  {
   "cell_type": "code",
   "execution_count": 1,
   "id": "6670bdf9",
   "metadata": {},
   "outputs": [],
   "source": [
    "#[15] Certidão Negativa de Protesto (PG)"
   ]
  },
  {
   "cell_type": "code",
   "execution_count": 2,
   "id": "484bdcb8",
   "metadata": {},
   "outputs": [],
   "source": [
    "#Bibliotecas:\n",
    "\n",
    "#Deprecated:\n",
    "#from selenium.webdriver import Chrome\n",
    "\n",
    "#New Version: Selenium 4.0 Beta 1\n",
    "from selenium import webdriver\n",
    "from selenium.webdriver.chrome.service import Service\n",
    "from selenium.webdriver.common.by import By\n",
    "from selenium.webdriver.support import expected_conditions as EC\n",
    "from selenium.webdriver.common.action_chains import ActionChains\n",
    "from selenium.webdriver.common.keys import Keys\n",
    " \n",
    "#Options:\n",
    "from selenium.webdriver.chrome.options import Options\n",
    "\n",
    "#chrome_options.add_argument(\"--disable-extensions\")\n",
    "#chrome_options.add_argument('-headless')\n",
    "\n",
    "from selenium.webdriver.support.ui import WebDriverWait\n",
    "\n",
    "#Exceptions:\n",
    "from selenium.common.exceptions import TimeoutException\n",
    "from selenium.common.exceptions import NoSuchElementException\n",
    "\n",
    "from random import randrange       #random number (used in secs to wait - time)\n",
    "import time                        #wait to run\n",
    "import getpass                     #usr info\n",
    "import pandas as pd\n",
    "import json\n",
    "import os\n",
    "import glob\n",
    "import shutil"
   ]
  },
  {
   "cell_type": "code",
   "execution_count": 3,
   "id": "95391315",
   "metadata": {},
   "outputs": [],
   "source": [
    "#Configurações Impressão em .pdf:\n",
    "caminho_download = 'C:\\\\Users\\\\felip\\\\Downloads'\n",
    "chrome_options = Options()\n",
    "settings = {\n",
    "       \"recentDestinations\": [{\n",
    "            \"id\": \"Save as PDF\",\n",
    "            \"origin\": \"local\",\n",
    "            \"account\": \"\",\n",
    "        }],\n",
    "        \"selectedDestinationId\": \"Save as PDF\",\n",
    "        \"version\": 2\n",
    "    }\n",
    "exclude_default_swithes = [\"disable-client-side-phishing-detection\",\n",
    "    \"safebrowsing-disable-auto-update\",\n",
    "    \"safebrowsing-disable-download-protection\",\n",
    "    \"ignore-certificate-errors\",]\n",
    "prefs = {\"plugins.always_open_pdf_externally\": True,\n",
    "        \"download.default_directory\": caminho_download,       \n",
    "        \"printing.print_preview_sticky_settings.appState\": json.dumps(settings),\n",
    "        \"savefile.default_directory\": 'C:\\\\Users\\\\felip\\\\Downloads'}     #ADD\n",
    "chrome_options.add_experimental_option(\"prefs\",prefs)\n",
    "chrome_options.add_argument('--kiosk-printing') #ADD\n",
    "chrome_options.add_experimental_option(\"excludeSwitches\", exclude_default_swithes)\n",
    "chrome_options.add_experimental_option(\"useAutomationExtension\", False)"
   ]
  },
  {
   "cell_type": "code",
   "execution_count": 4,
   "id": "4922c0b1",
   "metadata": {},
   "outputs": [],
   "source": [
    "#Cria uma pasta para a SC caso ela já não exista no sistema:\n",
    "def criaPastaSC(codigo_SC): #Captura o código da SC\n",
    "    newpath = r'C:\\\\Users\\\\felip\\\\OneDrive\\\\Área de Trabalho\\\\Documentacao\\\\Certidoes' \n",
    "    newpath = newpath + '\\\\' + codigo_SC\n",
    "    if not os.path.exists(newpath):\n",
    "        os.makedirs(newpath)\n",
    "        print(\"Pasta:\" + newpath + \"criada.\")\n",
    "    print(\"PAsta já existe.\")"
   ]
  },
  {
   "cell_type": "code",
   "execution_count": 5,
   "id": "70bb3a18",
   "metadata": {},
   "outputs": [],
   "source": [
    "def moveCert(codigo_SC):\n",
    "#Move a certidão baixada da pasta Downloads para a pasta da SC:\n",
    "\n",
    "    #Lista os arquivos da Pasta Downloads:\n",
    "    list_of_files = glob.glob(r'C:\\Users\\felip\\Downloads\\*.pdf') # * means all if need specific format then *.csv\n",
    "    print(list_of_files)\n",
    "    \n",
    "    #Captura o último arquivo:\n",
    "    latest_file = max(list_of_files, key=os.path.getctime)\n",
    "\n",
    "    #Move o arquivo à pasta da SC:\n",
    "    destino = \"C:\\\\Users\\\\felip\\\\OneDrive\\\\Área de Trabalho\\\\Documentacao\\\\Certidoes\\\\\"\n",
    "    destino = destino + str(codigo_SC)\n",
    "    shutil.move(latest_file, destino)\n",
    "    print(destino)"
   ]
  },
  {
   "cell_type": "code",
   "execution_count": 6,
   "id": "715e0c4b",
   "metadata": {},
   "outputs": [],
   "source": [
    "#Captura o nome do usuário:\n",
    "usr = getpass.getuser()"
   ]
  },
  {
   "cell_type": "code",
   "execution_count": 7,
   "id": "564f4793",
   "metadata": {},
   "outputs": [],
   "source": [
    "#INPUTS:\n",
    "df_cpf = pd.read_excel(\"C:/Users/felip/OneDrive/Área de Trabalho/Documentacao/Robos/INPUT/A_Consultar.xlsx\", engine='openpyxl')"
   ]
  },
  {
   "cell_type": "code",
   "execution_count": 8,
   "id": "80885fae",
   "metadata": {},
   "outputs": [
    {
     "name": "stdout",
     "output_type": "stream",
     "text": [
      "Realizando SC0\n"
     ]
    },
    {
     "name": "stderr",
     "output_type": "stream",
     "text": [
      "C:\\Users\\felip\\AppData\\Local\\Temp/ipykernel_52512/1181355980.py:24: DeprecationWarning: executable_path has been deprecated, please pass in a Service object\n",
      "  driver = webdriver.Chrome(\"chromedriver.exe\", options=chrome_options)\n"
     ]
    },
    {
     "ename": "ElementClickInterceptedException",
     "evalue": "Message: element click intercepted: Element <a onclick=\"ImprimirConteudoPainelConsultaProtesto(impressao_consulta_protestos);\" class=\"btn btn-orion\" id=\"bt_consultatiprot_imprimir\" name=\"bt_consultatiprot_imprimir\">...</a> is not clickable at point (630, 537). Other element would receive the click: <p>...</p>\n  (Session info: chrome=96.0.4664.110)\nStacktrace:\nBacktrace:\n\tOrdinal0 [0x008A6903+2517251]\n\tOrdinal0 [0x0083F8E1+2095329]\n\tOrdinal0 [0x00742848+1058888]\n\tOrdinal0 [0x00773509+1258761]\n\tOrdinal0 [0x00771868+1251432]\n\tOrdinal0 [0x0076F65D+1242717]\n\tOrdinal0 [0x0076E4A8+1238184]\n\tOrdinal0 [0x00764037+1196087]\n\tOrdinal0 [0x007864D3+1336531]\n\tOrdinal0 [0x00763A36+1194550]\n\tOrdinal0 [0x007865BA+1336762]\n\tOrdinal0 [0x00795BBF+1399743]\n\tOrdinal0 [0x0078639B+1336219]\n\tOrdinal0 [0x007627A7+1189799]\n\tOrdinal0 [0x00763609+1193481]\n\tGetHandleVerifier [0x00A35904+1577972]\n\tGetHandleVerifier [0x00AE0B97+2279047]\n\tGetHandleVerifier [0x00936D09+534521]\n\tGetHandleVerifier [0x00935DB9+530601]\n\tOrdinal0 [0x00844FF9+2117625]\n\tOrdinal0 [0x008498A8+2136232]\n\tOrdinal0 [0x008499E2+2136546]\n\tOrdinal0 [0x00853541+2176321]\n\tBaseThreadInitThunk [0x76276739+25]\n\tRtlGetFullPathName_UEx [0x777D8AFF+1215]\n\tRtlGetFullPathName_UEx [0x777D8ACD+1165]\n",
     "output_type": "error",
     "traceback": [
      "\u001b[1;31m---------------------------------------------------------------------------\u001b[0m",
      "\u001b[1;31mElementClickInterceptedException\u001b[0m          Traceback (most recent call last)",
      "\u001b[1;32m~\\AppData\\Local\\Temp/ipykernel_52512/1181355980.py\u001b[0m in \u001b[0;36m<module>\u001b[1;34m\u001b[0m\n\u001b[0;32m     55\u001b[0m         \u001b[0mdriver\u001b[0m\u001b[1;33m.\u001b[0m\u001b[0mexecute_script\u001b[0m\u001b[1;33m(\u001b[0m\u001b[1;34m\"window.scrollTo(1080, document.body.scrollHeight);\"\u001b[0m\u001b[1;33m)\u001b[0m\u001b[1;33m\u001b[0m\u001b[1;33m\u001b[0m\u001b[0m\n\u001b[0;32m     56\u001b[0m         \u001b[0melemento\u001b[0m \u001b[1;33m=\u001b[0m \u001b[1;33m(\u001b[0m\u001b[0mBy\u001b[0m\u001b[1;33m.\u001b[0m\u001b[0mCSS_SELECTOR\u001b[0m\u001b[1;33m,\u001b[0m \u001b[1;34m\"a[onclick*='ImprimirConteudoPainelConsultaProtesto\"\u001b[0m\u001b[1;33m)\u001b[0m\u001b[1;33m\u001b[0m\u001b[1;33m\u001b[0m\u001b[0m\n\u001b[1;32m---> 57\u001b[1;33m         \u001b[0macesso\u001b[0m \u001b[1;33m=\u001b[0m \u001b[0mdriver\u001b[0m\u001b[1;33m.\u001b[0m\u001b[0mfind_element\u001b[0m\u001b[1;33m(\u001b[0m\u001b[1;33m*\u001b[0m\u001b[0melemento\u001b[0m\u001b[1;33m)\u001b[0m\u001b[1;33m.\u001b[0m\u001b[0mclick\u001b[0m\u001b[1;33m(\u001b[0m\u001b[1;33m)\u001b[0m\u001b[1;33m\u001b[0m\u001b[1;33m\u001b[0m\u001b[0m\n\u001b[0m\u001b[0;32m     58\u001b[0m \u001b[1;33m\u001b[0m\u001b[0m\n\u001b[0;32m     59\u001b[0m         \u001b[1;31m#Cria pasta na rede para SC caso ela ainda não exista:\u001b[0m\u001b[1;33m\u001b[0m\u001b[1;33m\u001b[0m\u001b[0m\n",
      "\u001b[1;32m~\\anaconda3\\lib\\site-packages\\selenium\\webdriver\\remote\\webelement.py\u001b[0m in \u001b[0;36mclick\u001b[1;34m(self)\u001b[0m\n\u001b[0;32m     79\u001b[0m     \u001b[1;32mdef\u001b[0m \u001b[0mclick\u001b[0m\u001b[1;33m(\u001b[0m\u001b[0mself\u001b[0m\u001b[1;33m)\u001b[0m \u001b[1;33m->\u001b[0m \u001b[1;32mNone\u001b[0m\u001b[1;33m:\u001b[0m\u001b[1;33m\u001b[0m\u001b[1;33m\u001b[0m\u001b[0m\n\u001b[0;32m     80\u001b[0m         \u001b[1;34m\"\"\"Clicks the element.\"\"\"\u001b[0m\u001b[1;33m\u001b[0m\u001b[1;33m\u001b[0m\u001b[0m\n\u001b[1;32m---> 81\u001b[1;33m         \u001b[0mself\u001b[0m\u001b[1;33m.\u001b[0m\u001b[0m_execute\u001b[0m\u001b[1;33m(\u001b[0m\u001b[0mCommand\u001b[0m\u001b[1;33m.\u001b[0m\u001b[0mCLICK_ELEMENT\u001b[0m\u001b[1;33m)\u001b[0m\u001b[1;33m\u001b[0m\u001b[1;33m\u001b[0m\u001b[0m\n\u001b[0m\u001b[0;32m     82\u001b[0m \u001b[1;33m\u001b[0m\u001b[0m\n\u001b[0;32m     83\u001b[0m     \u001b[1;32mdef\u001b[0m \u001b[0msubmit\u001b[0m\u001b[1;33m(\u001b[0m\u001b[0mself\u001b[0m\u001b[1;33m)\u001b[0m\u001b[1;33m:\u001b[0m\u001b[1;33m\u001b[0m\u001b[1;33m\u001b[0m\u001b[0m\n",
      "\u001b[1;32m~\\anaconda3\\lib\\site-packages\\selenium\\webdriver\\remote\\webelement.py\u001b[0m in \u001b[0;36m_execute\u001b[1;34m(self, command, params)\u001b[0m\n\u001b[0;32m    708\u001b[0m             \u001b[0mparams\u001b[0m \u001b[1;33m=\u001b[0m \u001b[1;33m{\u001b[0m\u001b[1;33m}\u001b[0m\u001b[1;33m\u001b[0m\u001b[1;33m\u001b[0m\u001b[0m\n\u001b[0;32m    709\u001b[0m         \u001b[0mparams\u001b[0m\u001b[1;33m[\u001b[0m\u001b[1;34m'id'\u001b[0m\u001b[1;33m]\u001b[0m \u001b[1;33m=\u001b[0m \u001b[0mself\u001b[0m\u001b[1;33m.\u001b[0m\u001b[0m_id\u001b[0m\u001b[1;33m\u001b[0m\u001b[1;33m\u001b[0m\u001b[0m\n\u001b[1;32m--> 710\u001b[1;33m         \u001b[1;32mreturn\u001b[0m \u001b[0mself\u001b[0m\u001b[1;33m.\u001b[0m\u001b[0m_parent\u001b[0m\u001b[1;33m.\u001b[0m\u001b[0mexecute\u001b[0m\u001b[1;33m(\u001b[0m\u001b[0mcommand\u001b[0m\u001b[1;33m,\u001b[0m \u001b[0mparams\u001b[0m\u001b[1;33m)\u001b[0m\u001b[1;33m\u001b[0m\u001b[1;33m\u001b[0m\u001b[0m\n\u001b[0m\u001b[0;32m    711\u001b[0m \u001b[1;33m\u001b[0m\u001b[0m\n\u001b[0;32m    712\u001b[0m     \u001b[1;32mdef\u001b[0m \u001b[0mfind_element\u001b[0m\u001b[1;33m(\u001b[0m\u001b[0mself\u001b[0m\u001b[1;33m,\u001b[0m \u001b[0mby\u001b[0m\u001b[1;33m=\u001b[0m\u001b[0mBy\u001b[0m\u001b[1;33m.\u001b[0m\u001b[0mID\u001b[0m\u001b[1;33m,\u001b[0m \u001b[0mvalue\u001b[0m\u001b[1;33m=\u001b[0m\u001b[1;32mNone\u001b[0m\u001b[1;33m)\u001b[0m\u001b[1;33m:\u001b[0m\u001b[1;33m\u001b[0m\u001b[1;33m\u001b[0m\u001b[0m\n",
      "\u001b[1;32m~\\anaconda3\\lib\\site-packages\\selenium\\webdriver\\remote\\webdriver.py\u001b[0m in \u001b[0;36mexecute\u001b[1;34m(self, driver_command, params)\u001b[0m\n\u001b[0;32m    422\u001b[0m         \u001b[0mresponse\u001b[0m \u001b[1;33m=\u001b[0m \u001b[0mself\u001b[0m\u001b[1;33m.\u001b[0m\u001b[0mcommand_executor\u001b[0m\u001b[1;33m.\u001b[0m\u001b[0mexecute\u001b[0m\u001b[1;33m(\u001b[0m\u001b[0mdriver_command\u001b[0m\u001b[1;33m,\u001b[0m \u001b[0mparams\u001b[0m\u001b[1;33m)\u001b[0m\u001b[1;33m\u001b[0m\u001b[1;33m\u001b[0m\u001b[0m\n\u001b[0;32m    423\u001b[0m         \u001b[1;32mif\u001b[0m \u001b[0mresponse\u001b[0m\u001b[1;33m:\u001b[0m\u001b[1;33m\u001b[0m\u001b[1;33m\u001b[0m\u001b[0m\n\u001b[1;32m--> 424\u001b[1;33m             \u001b[0mself\u001b[0m\u001b[1;33m.\u001b[0m\u001b[0merror_handler\u001b[0m\u001b[1;33m.\u001b[0m\u001b[0mcheck_response\u001b[0m\u001b[1;33m(\u001b[0m\u001b[0mresponse\u001b[0m\u001b[1;33m)\u001b[0m\u001b[1;33m\u001b[0m\u001b[1;33m\u001b[0m\u001b[0m\n\u001b[0m\u001b[0;32m    425\u001b[0m             response['value'] = self._unwrap_value(\n\u001b[0;32m    426\u001b[0m                 response.get('value', None))\n",
      "\u001b[1;32m~\\anaconda3\\lib\\site-packages\\selenium\\webdriver\\remote\\errorhandler.py\u001b[0m in \u001b[0;36mcheck_response\u001b[1;34m(self, response)\u001b[0m\n\u001b[0;32m    245\u001b[0m                 \u001b[0malert_text\u001b[0m \u001b[1;33m=\u001b[0m \u001b[0mvalue\u001b[0m\u001b[1;33m[\u001b[0m\u001b[1;34m'alert'\u001b[0m\u001b[1;33m]\u001b[0m\u001b[1;33m.\u001b[0m\u001b[0mget\u001b[0m\u001b[1;33m(\u001b[0m\u001b[1;34m'text'\u001b[0m\u001b[1;33m)\u001b[0m\u001b[1;33m\u001b[0m\u001b[1;33m\u001b[0m\u001b[0m\n\u001b[0;32m    246\u001b[0m             \u001b[1;32mraise\u001b[0m \u001b[0mexception_class\u001b[0m\u001b[1;33m(\u001b[0m\u001b[0mmessage\u001b[0m\u001b[1;33m,\u001b[0m \u001b[0mscreen\u001b[0m\u001b[1;33m,\u001b[0m \u001b[0mstacktrace\u001b[0m\u001b[1;33m,\u001b[0m \u001b[0malert_text\u001b[0m\u001b[1;33m)\u001b[0m  \u001b[1;31m# type: ignore[call-arg]  # mypy is not smart enough here\u001b[0m\u001b[1;33m\u001b[0m\u001b[1;33m\u001b[0m\u001b[0m\n\u001b[1;32m--> 247\u001b[1;33m         \u001b[1;32mraise\u001b[0m \u001b[0mexception_class\u001b[0m\u001b[1;33m(\u001b[0m\u001b[0mmessage\u001b[0m\u001b[1;33m,\u001b[0m \u001b[0mscreen\u001b[0m\u001b[1;33m,\u001b[0m \u001b[0mstacktrace\u001b[0m\u001b[1;33m)\u001b[0m\u001b[1;33m\u001b[0m\u001b[1;33m\u001b[0m\u001b[0m\n\u001b[0m\u001b[0;32m    248\u001b[0m \u001b[1;33m\u001b[0m\u001b[0m\n\u001b[0;32m    249\u001b[0m     \u001b[1;32mdef\u001b[0m \u001b[0m_value_or_default\u001b[0m\u001b[1;33m(\u001b[0m\u001b[0mself\u001b[0m\u001b[1;33m,\u001b[0m \u001b[0mobj\u001b[0m\u001b[1;33m:\u001b[0m \u001b[0mMapping\u001b[0m\u001b[1;33m[\u001b[0m\u001b[0m_KT\u001b[0m\u001b[1;33m,\u001b[0m \u001b[0m_VT\u001b[0m\u001b[1;33m]\u001b[0m\u001b[1;33m,\u001b[0m \u001b[0mkey\u001b[0m\u001b[1;33m:\u001b[0m \u001b[0m_KT\u001b[0m\u001b[1;33m,\u001b[0m \u001b[0mdefault\u001b[0m\u001b[1;33m:\u001b[0m \u001b[0m_VT\u001b[0m\u001b[1;33m)\u001b[0m \u001b[1;33m->\u001b[0m \u001b[0m_VT\u001b[0m\u001b[1;33m:\u001b[0m\u001b[1;33m\u001b[0m\u001b[1;33m\u001b[0m\u001b[0m\n",
      "\u001b[1;31mElementClickInterceptedException\u001b[0m: Message: element click intercepted: Element <a onclick=\"ImprimirConteudoPainelConsultaProtesto(impressao_consulta_protestos);\" class=\"btn btn-orion\" id=\"bt_consultatiprot_imprimir\" name=\"bt_consultatiprot_imprimir\">...</a> is not clickable at point (630, 537). Other element would receive the click: <p>...</p>\n  (Session info: chrome=96.0.4664.110)\nStacktrace:\nBacktrace:\n\tOrdinal0 [0x008A6903+2517251]\n\tOrdinal0 [0x0083F8E1+2095329]\n\tOrdinal0 [0x00742848+1058888]\n\tOrdinal0 [0x00773509+1258761]\n\tOrdinal0 [0x00771868+1251432]\n\tOrdinal0 [0x0076F65D+1242717]\n\tOrdinal0 [0x0076E4A8+1238184]\n\tOrdinal0 [0x00764037+1196087]\n\tOrdinal0 [0x007864D3+1336531]\n\tOrdinal0 [0x00763A36+1194550]\n\tOrdinal0 [0x007865BA+1336762]\n\tOrdinal0 [0x00795BBF+1399743]\n\tOrdinal0 [0x0078639B+1336219]\n\tOrdinal0 [0x007627A7+1189799]\n\tOrdinal0 [0x00763609+1193481]\n\tGetHandleVerifier [0x00A35904+1577972]\n\tGetHandleVerifier [0x00AE0B97+2279047]\n\tGetHandleVerifier [0x00936D09+534521]\n\tGetHandleVerifier [0x00935DB9+530601]\n\tOrdinal0 [0x00844FF9+2117625]\n\tOrdinal0 [0x008498A8+2136232]\n\tOrdinal0 [0x008499E2+2136546]\n\tOrdinal0 [0x00853541+2176321]\n\tBaseThreadInitThunk [0x76276739+25]\n\tRtlGetFullPathName_UEx [0x777D8AFF+1215]\n\tRtlGetFullPathName_UEx [0x777D8ACD+1165]\n"
     ]
    }
   ],
   "source": [
    "#Acesso ao Site:\n",
    "\n",
    "#Link para Certidão Negativa de Protesto (PG):\n",
    "url = \"http://www.cartorioshoji.com.br/Home/Servico?Identificador=3\"\n",
    "\n",
    "#Varre cada CLiente/Pedido do Input:\n",
    "for index, row in df_cpf.iterrows():\n",
    "\n",
    "    #Identifica se a certidão conseguiu ser extraída atribuindo True:\n",
    "    sucesso = False\n",
    "        \n",
    "    while sucesso != True:\n",
    "        \n",
    "        print(\"Realizando SC\" + str(index))\n",
    "        \n",
    "        #Adicionar condicional para capturar da base o tipo de documento utilizado na busca do site:\n",
    "        #(CPF, RG ou CNPJ)\n",
    "        \n",
    "        #Dados do Cliente:\n",
    "        num_cpf = str(df_cpf['CPF'][index])\n",
    "        \n",
    "        #Inicializa o Chromedriver:\n",
    "        #s = Service('chromedriver.exe')\n",
    "        driver = webdriver.Chrome(\"chromedriver.exe\", options=chrome_options)\n",
    "        \n",
    "        #Página Alvo:\n",
    "        driver.get(url)\n",
    "        \n",
    "        #Clica na janela de utilização de cookies - botão Aceito Continuar:\n",
    "        #time.sleep(3)\n",
    "        #elemento = (By.XPATH, \"/html[@class='js no-touch history boxshadow csstransforms3d csstransitions video svg webkit chrome win js sticky-header-enabled sticky-header-active']/body/div[@id='mensagemInferiorDeCookie']/div[@class='aceite-cookie-bottom']/button[@class='btn btn-orion']\")\n",
    "        #acesso = driver.find_element(*elemento).click()\n",
    "                \n",
    "        #Preenche o inputbox Número do documento:\n",
    "        time.sleep(2)\n",
    "        elemento = (By.ID, \"txtNrDoctoTiProt\")\n",
    "        acesso = driver.find_element(*elemento).send_keys(num_cpf)\n",
    "        \n",
    "        #Clica no Botão Consultar:\n",
    "        time.sleep(3)\n",
    "        elemento = (By.ID, \"bt_consultaTiProt_consultar\")\n",
    "        acesso = driver.find_element(*elemento).click()\n",
    "        \n",
    "        #Clica no Botão Imprimir:\n",
    "        time.sleep(3)\n",
    "        #elemento = (By.XPATH, \"/html[@class='js no-touch history boxshadow csstransforms3d csstransitions video svg webkit chrome win js sticky-header-enabled sticky-header-active']/body[@class='modal-open']/div[@class='container ServicosContainer']/div[@class='row']/div[@class='col']/div[@id='card']/div[@class='row']/div[@id='pnPopUpModalTitulosProtestados']/div[@class='modal-dialog']/div[@class='modal-content']/div[@class='modal-footer']/a[@id='bt_consultatiprot_imprimir']\")\n",
    "        #acesso = driver.find_element(*elemento).click()   \n",
    "        #elemento = (By.name, \"bt_consultatiprot_imprimir\")\n",
    "        #acesso = driver.find_element(*elemento).click()\n",
    "        #elemento = (By.name, \"bt_consultatiprot_imprimir\")\n",
    "        #elemento = (By.CLASS_NAME, \"input[id = 'bt_consultatiprot_imprimir']\")\n",
    "        #acesso = driver.find_element(*elemento).click()\n",
    "        \n",
    "        #Da Scrolldown para carregar toda a página:\n",
    "        driver.execute_script(\"window.scrollTo(1080, document.body.scrollHeight);\")\n",
    "        elemento = (By.CSS_SELECTOR, \"a[onclick*='ImprimirConteudoPainelConsultaProtesto\")\n",
    "        acesso = driver.find_element(*elemento).click()\n",
    "                    \n",
    "        #Cria pasta na rede para SC caso ela ainda não exista:\n",
    "        nm_pasta = str(index) + \"_rb8\"\n",
    "        criaPastaSC(str(index))\n",
    "        \n",
    "        #Move Certidão para a pasta da SC:\n",
    "        time.sleep(2)\n",
    "        #Pausa para que o Download seja completo antes de mover e renomear o arquivo da certidão:\n",
    "        moveCert(str(index))\n",
    "        sucesso = True  "
   ]
  }
 ],
 "metadata": {
  "kernelspec": {
   "display_name": "Python 3 (ipykernel)",
   "language": "python",
   "name": "python3"
  },
  "language_info": {
   "codemirror_mode": {
    "name": "ipython",
    "version": 3
   },
   "file_extension": ".py",
   "mimetype": "text/x-python",
   "name": "python",
   "nbconvert_exporter": "python",
   "pygments_lexer": "ipython3",
   "version": "3.9.7"
  }
 },
 "nbformat": 4,
 "nbformat_minor": 5
}
