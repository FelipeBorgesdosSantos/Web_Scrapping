{
 "cells": [
  {
   "cell_type": "code",
   "execution_count": 1,
   "metadata": {},
   "outputs": [],
   "source": [
    "#[5] Certidão Negativa Justiça Federal:"
   ]
  },
  {
   "cell_type": "code",
   "execution_count": 2,
   "metadata": {
    "ExecuteTime": {
     "end_time": "2021-11-24T23:34:20.741306Z",
     "start_time": "2021-11-24T23:34:20.721317Z"
    }
   },
   "outputs": [],
   "source": [
    "#Bibliotecas:\n",
    "\n",
    "#Deprecated:\n",
    "#from selenium.webdriver import Chrome\n",
    "\n",
    "#New Version: Selenium 4.0 Beta 1\n",
    "from selenium import webdriver\n",
    "from selenium.webdriver.chrome.service import Service\n",
    "from selenium.webdriver.common.by import By\n",
    "from selenium.webdriver.support import expected_conditions as EC\n",
    "from selenium.webdriver.common.action_chains import ActionChains\n",
    "from selenium.webdriver.common.keys import Keys\n",
    " \n",
    "#Options:\n",
    "from selenium.webdriver.chrome.options import Options\n",
    "\n",
    "#chrome_options.add_argument(\"--disable-extensions\")\n",
    "#chrome_options.add_argument('-headless')\n",
    "\n",
    "from selenium.webdriver.support.ui import WebDriverWait\n",
    "\n",
    "#Exceptions:\n",
    "from selenium.common.exceptions import TimeoutException\n",
    "from selenium.common.exceptions import NoSuchElementException\n",
    "\n",
    "from random import randrange       #random number (used in secs to wait - time)\n",
    "import time                        #wait to run\n",
    "import getpass                     #usr info\n",
    "import pandas as pd\n",
    "import json\n",
    "import os"
   ]
  },
  {
   "cell_type": "code",
   "execution_count": 3,
   "metadata": {
    "ExecuteTime": {
     "end_time": "2021-11-24T23:34:20.816986Z",
     "start_time": "2021-11-24T23:34:20.744304Z"
    }
   },
   "outputs": [],
   "source": [
    "#Configurações Impressão em .pdf:\n",
    "caminho_download = 'C:\\\\Users\\\\felip\\\\Downloads'\n",
    "chrome_options = Options()\n",
    "settings = {\n",
    "       \"recentDestinations\": [{\n",
    "            \"id\": \"Save as PDF\",\n",
    "            \"origin\": \"local\",\n",
    "            \"account\": \"\",\n",
    "        }],\n",
    "        \"selectedDestinationId\": \"Save as PDF\",\n",
    "        \"version\": 2\n",
    "    }\n",
    "exclude_default_swithes = [\"disable-client-side-phishing-detection\",\n",
    "    \"safebrowsing-disable-auto-update\",\n",
    "    \"safebrowsing-disable-download-protection\",\n",
    "    \"ignore-certificate-errors\",]\n",
    "prefs = {\"plugins.always_open_pdf_externally\": True,\n",
    "        \"download.default_directory\": caminho_download,       \n",
    "        \"printing.print_preview_sticky_settings.appState\": json.dumps(settings),\n",
    "        \"savefile.default_directory\": 'C:\\\\Users\\\\felip\\\\Downloads'}     #ADD\n",
    "chrome_options.add_experimental_option(\"prefs\",prefs)\n",
    "chrome_options.add_argument('--kiosk-printing') #ADD\n",
    "chrome_options.add_experimental_option(\"excludeSwitches\", exclude_default_swithes)\n",
    "chrome_options.add_experimental_option(\"useAutomationExtension\", False)"
   ]
  },
  {
   "cell_type": "code",
   "execution_count": 4,
   "metadata": {
    "ExecuteTime": {
     "end_time": "2021-11-24T23:34:20.894628Z",
     "start_time": "2021-11-24T23:34:20.817969Z"
    }
   },
   "outputs": [],
   "source": [
    "#Cria uma pasta para a SC caso ela já não exista no sistema:\n",
    "def criaPastaSC(codigo_SC): #Captura o código da SC\n",
    "    newpath = r'C:\\\\Users\\\\felip\\\\OneDrive\\\\Documentos\\\\MEGA\\\\Documentacao\\\\Certidoes' \n",
    "    newpath = newpath + '\\\\' + codigo_SC\n",
    "    if not os.path.exists(newpath):\n",
    "        os.makedirs(newpath)"
   ]
  },
  {
   "cell_type": "code",
   "execution_count": 5,
   "metadata": {
    "ExecuteTime": {
     "end_time": "2021-11-24T23:34:20.974300Z",
     "start_time": "2021-11-24T23:34:20.896592Z"
    }
   },
   "outputs": [],
   "source": [
    "#Captura o nome do usuário:\n",
    "usr = getpass.getuser()"
   ]
  },
  {
   "cell_type": "code",
   "execution_count": 6,
   "metadata": {
    "ExecuteTime": {
     "end_time": "2021-11-24T23:34:21.226384Z",
     "start_time": "2021-11-24T23:34:20.975285Z"
    }
   },
   "outputs": [
    {
     "ename": "FileNotFoundError",
     "evalue": "[Errno 2] No such file or directory: 'C:/Users/felip/OneDrive/Documentos/MEGA/Documentacao/Robos/INPUT/A_Consultar.xlsx'",
     "output_type": "error",
     "traceback": [
      "\u001b[1;31m---------------------------------------------------------------------------\u001b[0m",
      "\u001b[1;31mFileNotFoundError\u001b[0m                         Traceback (most recent call last)",
      "\u001b[1;32m~\\AppData\\Local\\Temp/ipykernel_2688/3715927256.py\u001b[0m in \u001b[0;36m<module>\u001b[1;34m\u001b[0m\n\u001b[0;32m      1\u001b[0m \u001b[1;31m#INPUTS:\u001b[0m\u001b[1;33m\u001b[0m\u001b[1;33m\u001b[0m\u001b[0m\n\u001b[1;32m----> 2\u001b[1;33m \u001b[0mdf_cpf\u001b[0m \u001b[1;33m=\u001b[0m \u001b[0mpd\u001b[0m\u001b[1;33m.\u001b[0m\u001b[0mread_excel\u001b[0m\u001b[1;33m(\u001b[0m\u001b[1;34m\"C:/Users/felip/OneDrive/Documentos/MEGA/Documentacao/Robos/INPUT/A_Consultar.xlsx\"\u001b[0m\u001b[1;33m,\u001b[0m \u001b[0mengine\u001b[0m\u001b[1;33m=\u001b[0m\u001b[1;34m'openpyxl'\u001b[0m\u001b[1;33m)\u001b[0m\u001b[1;33m\u001b[0m\u001b[1;33m\u001b[0m\u001b[0m\n\u001b[0m",
      "\u001b[1;32m~\\anaconda3\\lib\\site-packages\\pandas\\util\\_decorators.py\u001b[0m in \u001b[0;36mwrapper\u001b[1;34m(*args, **kwargs)\u001b[0m\n\u001b[0;32m    309\u001b[0m                     \u001b[0mstacklevel\u001b[0m\u001b[1;33m=\u001b[0m\u001b[0mstacklevel\u001b[0m\u001b[1;33m,\u001b[0m\u001b[1;33m\u001b[0m\u001b[1;33m\u001b[0m\u001b[0m\n\u001b[0;32m    310\u001b[0m                 )\n\u001b[1;32m--> 311\u001b[1;33m             \u001b[1;32mreturn\u001b[0m \u001b[0mfunc\u001b[0m\u001b[1;33m(\u001b[0m\u001b[1;33m*\u001b[0m\u001b[0margs\u001b[0m\u001b[1;33m,\u001b[0m \u001b[1;33m**\u001b[0m\u001b[0mkwargs\u001b[0m\u001b[1;33m)\u001b[0m\u001b[1;33m\u001b[0m\u001b[1;33m\u001b[0m\u001b[0m\n\u001b[0m\u001b[0;32m    312\u001b[0m \u001b[1;33m\u001b[0m\u001b[0m\n\u001b[0;32m    313\u001b[0m         \u001b[1;32mreturn\u001b[0m \u001b[0mwrapper\u001b[0m\u001b[1;33m\u001b[0m\u001b[1;33m\u001b[0m\u001b[0m\n",
      "\u001b[1;32m~\\anaconda3\\lib\\site-packages\\pandas\\io\\excel\\_base.py\u001b[0m in \u001b[0;36mread_excel\u001b[1;34m(io, sheet_name, header, names, index_col, usecols, squeeze, dtype, engine, converters, true_values, false_values, skiprows, nrows, na_values, keep_default_na, na_filter, verbose, parse_dates, date_parser, thousands, comment, skipfooter, convert_float, mangle_dupe_cols, storage_options)\u001b[0m\n\u001b[0;32m    362\u001b[0m     \u001b[1;32mif\u001b[0m \u001b[1;32mnot\u001b[0m \u001b[0misinstance\u001b[0m\u001b[1;33m(\u001b[0m\u001b[0mio\u001b[0m\u001b[1;33m,\u001b[0m \u001b[0mExcelFile\u001b[0m\u001b[1;33m)\u001b[0m\u001b[1;33m:\u001b[0m\u001b[1;33m\u001b[0m\u001b[1;33m\u001b[0m\u001b[0m\n\u001b[0;32m    363\u001b[0m         \u001b[0mshould_close\u001b[0m \u001b[1;33m=\u001b[0m \u001b[1;32mTrue\u001b[0m\u001b[1;33m\u001b[0m\u001b[1;33m\u001b[0m\u001b[0m\n\u001b[1;32m--> 364\u001b[1;33m         \u001b[0mio\u001b[0m \u001b[1;33m=\u001b[0m \u001b[0mExcelFile\u001b[0m\u001b[1;33m(\u001b[0m\u001b[0mio\u001b[0m\u001b[1;33m,\u001b[0m \u001b[0mstorage_options\u001b[0m\u001b[1;33m=\u001b[0m\u001b[0mstorage_options\u001b[0m\u001b[1;33m,\u001b[0m \u001b[0mengine\u001b[0m\u001b[1;33m=\u001b[0m\u001b[0mengine\u001b[0m\u001b[1;33m)\u001b[0m\u001b[1;33m\u001b[0m\u001b[1;33m\u001b[0m\u001b[0m\n\u001b[0m\u001b[0;32m    365\u001b[0m     \u001b[1;32melif\u001b[0m \u001b[0mengine\u001b[0m \u001b[1;32mand\u001b[0m \u001b[0mengine\u001b[0m \u001b[1;33m!=\u001b[0m \u001b[0mio\u001b[0m\u001b[1;33m.\u001b[0m\u001b[0mengine\u001b[0m\u001b[1;33m:\u001b[0m\u001b[1;33m\u001b[0m\u001b[1;33m\u001b[0m\u001b[0m\n\u001b[0;32m    366\u001b[0m         raise ValueError(\n",
      "\u001b[1;32m~\\anaconda3\\lib\\site-packages\\pandas\\io\\excel\\_base.py\u001b[0m in \u001b[0;36m__init__\u001b[1;34m(self, path_or_buffer, engine, storage_options)\u001b[0m\n\u001b[0;32m   1231\u001b[0m         \u001b[0mself\u001b[0m\u001b[1;33m.\u001b[0m\u001b[0mstorage_options\u001b[0m \u001b[1;33m=\u001b[0m \u001b[0mstorage_options\u001b[0m\u001b[1;33m\u001b[0m\u001b[1;33m\u001b[0m\u001b[0m\n\u001b[0;32m   1232\u001b[0m \u001b[1;33m\u001b[0m\u001b[0m\n\u001b[1;32m-> 1233\u001b[1;33m         \u001b[0mself\u001b[0m\u001b[1;33m.\u001b[0m\u001b[0m_reader\u001b[0m \u001b[1;33m=\u001b[0m \u001b[0mself\u001b[0m\u001b[1;33m.\u001b[0m\u001b[0m_engines\u001b[0m\u001b[1;33m[\u001b[0m\u001b[0mengine\u001b[0m\u001b[1;33m]\u001b[0m\u001b[1;33m(\u001b[0m\u001b[0mself\u001b[0m\u001b[1;33m.\u001b[0m\u001b[0m_io\u001b[0m\u001b[1;33m,\u001b[0m \u001b[0mstorage_options\u001b[0m\u001b[1;33m=\u001b[0m\u001b[0mstorage_options\u001b[0m\u001b[1;33m)\u001b[0m\u001b[1;33m\u001b[0m\u001b[1;33m\u001b[0m\u001b[0m\n\u001b[0m\u001b[0;32m   1234\u001b[0m \u001b[1;33m\u001b[0m\u001b[0m\n\u001b[0;32m   1235\u001b[0m     \u001b[1;32mdef\u001b[0m \u001b[0m__fspath__\u001b[0m\u001b[1;33m(\u001b[0m\u001b[0mself\u001b[0m\u001b[1;33m)\u001b[0m\u001b[1;33m:\u001b[0m\u001b[1;33m\u001b[0m\u001b[1;33m\u001b[0m\u001b[0m\n",
      "\u001b[1;32m~\\anaconda3\\lib\\site-packages\\pandas\\io\\excel\\_openpyxl.py\u001b[0m in \u001b[0;36m__init__\u001b[1;34m(self, filepath_or_buffer, storage_options)\u001b[0m\n\u001b[0;32m    520\u001b[0m         \"\"\"\n\u001b[0;32m    521\u001b[0m         \u001b[0mimport_optional_dependency\u001b[0m\u001b[1;33m(\u001b[0m\u001b[1;34m\"openpyxl\"\u001b[0m\u001b[1;33m)\u001b[0m\u001b[1;33m\u001b[0m\u001b[1;33m\u001b[0m\u001b[0m\n\u001b[1;32m--> 522\u001b[1;33m         \u001b[0msuper\u001b[0m\u001b[1;33m(\u001b[0m\u001b[1;33m)\u001b[0m\u001b[1;33m.\u001b[0m\u001b[0m__init__\u001b[0m\u001b[1;33m(\u001b[0m\u001b[0mfilepath_or_buffer\u001b[0m\u001b[1;33m,\u001b[0m \u001b[0mstorage_options\u001b[0m\u001b[1;33m=\u001b[0m\u001b[0mstorage_options\u001b[0m\u001b[1;33m)\u001b[0m\u001b[1;33m\u001b[0m\u001b[1;33m\u001b[0m\u001b[0m\n\u001b[0m\u001b[0;32m    523\u001b[0m \u001b[1;33m\u001b[0m\u001b[0m\n\u001b[0;32m    524\u001b[0m     \u001b[1;33m@\u001b[0m\u001b[0mproperty\u001b[0m\u001b[1;33m\u001b[0m\u001b[1;33m\u001b[0m\u001b[0m\n",
      "\u001b[1;32m~\\anaconda3\\lib\\site-packages\\pandas\\io\\excel\\_base.py\u001b[0m in \u001b[0;36m__init__\u001b[1;34m(self, filepath_or_buffer, storage_options)\u001b[0m\n\u001b[0;32m    408\u001b[0m         )\n\u001b[0;32m    409\u001b[0m         \u001b[1;32mif\u001b[0m \u001b[1;32mnot\u001b[0m \u001b[0misinstance\u001b[0m\u001b[1;33m(\u001b[0m\u001b[0mfilepath_or_buffer\u001b[0m\u001b[1;33m,\u001b[0m \u001b[1;33m(\u001b[0m\u001b[0mExcelFile\u001b[0m\u001b[1;33m,\u001b[0m \u001b[0mself\u001b[0m\u001b[1;33m.\u001b[0m\u001b[0m_workbook_class\u001b[0m\u001b[1;33m)\u001b[0m\u001b[1;33m)\u001b[0m\u001b[1;33m:\u001b[0m\u001b[1;33m\u001b[0m\u001b[1;33m\u001b[0m\u001b[0m\n\u001b[1;32m--> 410\u001b[1;33m             self.handles = get_handle(\n\u001b[0m\u001b[0;32m    411\u001b[0m                 \u001b[0mfilepath_or_buffer\u001b[0m\u001b[1;33m,\u001b[0m \u001b[1;34m\"rb\"\u001b[0m\u001b[1;33m,\u001b[0m \u001b[0mstorage_options\u001b[0m\u001b[1;33m=\u001b[0m\u001b[0mstorage_options\u001b[0m\u001b[1;33m,\u001b[0m \u001b[0mis_text\u001b[0m\u001b[1;33m=\u001b[0m\u001b[1;32mFalse\u001b[0m\u001b[1;33m\u001b[0m\u001b[1;33m\u001b[0m\u001b[0m\n\u001b[0;32m    412\u001b[0m             )\n",
      "\u001b[1;32m~\\anaconda3\\lib\\site-packages\\pandas\\io\\common.py\u001b[0m in \u001b[0;36mget_handle\u001b[1;34m(path_or_buf, mode, encoding, compression, memory_map, is_text, errors, storage_options)\u001b[0m\n\u001b[0;32m    709\u001b[0m         \u001b[1;32melse\u001b[0m\u001b[1;33m:\u001b[0m\u001b[1;33m\u001b[0m\u001b[1;33m\u001b[0m\u001b[0m\n\u001b[0;32m    710\u001b[0m             \u001b[1;31m# Binary mode\u001b[0m\u001b[1;33m\u001b[0m\u001b[1;33m\u001b[0m\u001b[0m\n\u001b[1;32m--> 711\u001b[1;33m             \u001b[0mhandle\u001b[0m \u001b[1;33m=\u001b[0m \u001b[0mopen\u001b[0m\u001b[1;33m(\u001b[0m\u001b[0mhandle\u001b[0m\u001b[1;33m,\u001b[0m \u001b[0mioargs\u001b[0m\u001b[1;33m.\u001b[0m\u001b[0mmode\u001b[0m\u001b[1;33m)\u001b[0m\u001b[1;33m\u001b[0m\u001b[1;33m\u001b[0m\u001b[0m\n\u001b[0m\u001b[0;32m    712\u001b[0m         \u001b[0mhandles\u001b[0m\u001b[1;33m.\u001b[0m\u001b[0mappend\u001b[0m\u001b[1;33m(\u001b[0m\u001b[0mhandle\u001b[0m\u001b[1;33m)\u001b[0m\u001b[1;33m\u001b[0m\u001b[1;33m\u001b[0m\u001b[0m\n\u001b[0;32m    713\u001b[0m \u001b[1;33m\u001b[0m\u001b[0m\n",
      "\u001b[1;31mFileNotFoundError\u001b[0m: [Errno 2] No such file or directory: 'C:/Users/felip/OneDrive/Documentos/MEGA/Documentacao/Robos/INPUT/A_Consultar.xlsx'"
     ]
    }
   ],
   "source": [
    "#INPUTS:\n",
    "df_cpf = pd.read_excel(\"C:/Users/felip/OneDrive/Documentos/MEGA/Documentacao/Robos/INPUT/A_Consultar.xlsx\", engine='openpyxl')"
   ]
  },
  {
   "cell_type": "code",
   "execution_count": null,
   "metadata": {
    "ExecuteTime": {
     "end_time": "2021-11-25T00:28:38.090058Z",
     "start_time": "2021-11-24T23:34:21.227415Z"
    }
   },
   "outputs": [],
   "source": [
    "#Acesso ao Site:\n",
    "\n",
    "#Link para Certidão Negativa Justiça Federal:\n",
    "url = \"http://web.trf3.jus.br/certidao/Certidao/Solicitar\"\n",
    "\n",
    "#Varre cada CLiente/Pedido do Input:\n",
    "for index, row in df_cpf.iterrows():\n",
    "        \n",
    "        #Identifica se a certidão conseguiu ser extraída atribuindo True:\n",
    "        sucesso = False\n",
    "        \n",
    "        while sucesso != True:\n",
    "        \n",
    "            print(\"Realizando SC\" + str(index))\n",
    "        \n",
    "            #Dados do Cliente:\n",
    "            cpf = str(df_cpf['CPF'][index])\n",
    "                #Tratamento da informação: '0    41810267870\\nName: CPF, dtype: int64' para formato padrão.\n",
    "            cpf2 = cpf.replace(\"0    \", \"\").replace(\"\\nName: CPF, dtype: int64\", \"\")\n",
    "\n",
    "                #Tratamento da informação: '0    Felipe Borges dos Santos\\nName: Nome, dtype: object' para formato padrão.\n",
    "            nm = str(df_cpf['Nome'][index])\n",
    "            nm2 = nm.replace(\"0    \", \"\").replace(\"\\nName: Nome, dtype: object\", \"\")\n",
    "        \n",
    "            #Inicializa o Chromedriver:\n",
    "            #s = Service('chromedriver.exe')\n",
    "            driver = webdriver.Chrome(\"chromedriver.exe\", options=chrome_options)\n",
    "                \n",
    "            #Página Alvo:\n",
    "            driver.get(url)\n",
    "\n",
    "            #Marca a opção \"Certidão de Distribuição\" em Tipo de Certidão:\n",
    "            time.sleep(2)\n",
    "            elemento = (By.ID, \"TipoCertidao4\")\n",
    "            acesso = driver.find_element(*elemento).click()\n",
    "\n",
    "            #Marca a opção \"Justiça Federal de Primeiro Grau em São Paulo\" em Abrangência da certidão:\n",
    "            time.sleep(2)\n",
    "            elemento = (By.ID, \"abrangenciaSJSP\")\n",
    "            acesso = driver.find_element(*elemento).click()\n",
    "\n",
    "            #Preenche o nome completo:\n",
    "            elemento = (By.ID, \"Nome\")\n",
    "            acesso = driver.find_element(*elemento).send_keys(nm2)\n",
    "            print(nm2)\n",
    "\n",
    "            #marca  aopção de tipo de documento como \"CPF\":\n",
    "            elemento = (By.ID, \"PessoaFisicaComCpf\")\n",
    "            acesso = driver.find_element(*elemento).click()\n",
    "\n",
    "            #Preenche com o número do CPF:\n",
    "            elemento = (By.ID, \"CpfCnpj\")\n",
    "            acesso = driver.find_element(*elemento).click()\n",
    "            acesso = driver.find_element(*elemento).send_keys(cpf2)\n",
    "\n",
    "            print(cpf2)\n",
    "\n",
    "            #Espera um tempo aleatório entre 3 e 6 s para clicar em gerar a certidão:\n",
    "            #time.sleep(randrange(4,8))\n",
    "            time.sleep(randrange(6,8))\n",
    "\n",
    "            print(\"esperando \" + str(randrange(6,8)) + \" para clicar\")\n",
    "\n",
    "            print(\"Clicando em Solicitar Certidão...\")\n",
    "            #Clica no Botão \"Solicitar Certidão\"\n",
    "\n",
    "            try:\n",
    "                element = WebDriverWait(driver, 4).until(EC.presence_of_element_located((By.ID, \"BtGeraCerticao\")))\n",
    "                element.click()\n",
    "            #Botão \"Solicitar Certidão não encontrado\"\n",
    "            except NoSuchElementException:\n",
    "                print(\"Botão de Solicitar Certidão não encontrado.\")\n",
    "            except TimeoutException:\n",
    "                print(\"Botão - Solicitar Certificado - Demorou mais que 10 segundos ...\")\n",
    "                continue\n",
    "\n",
    "            #Aguardando pelo botão de imprimir por 10 segundos... \n",
    "            #Espera explícita (baseada na visibilidade de dado elemento, se aparecer antes do timeout, o selenium prossegue. Se não > TimeoutException)\n",
    "            #Espera implícita: funciona para qualquer comando que esteja presente no webdriver.\n",
    "            print(\"Aguardando pelo botão imprimir...\")\n",
    "\n",
    "            #driver.implicitly_wait(10)\n",
    "\n",
    "            #element = WebDriverWait(driver, 10).until(\n",
    "            #EC.presence_of_element_located((By.ID, \"botaoImprimir\")))\n",
    "\n",
    "            #Colocar um timer e clicar para gerar .pdf salvando em local apropriado:\n",
    "            #ADD ID E EXPORTAR TB_TRATADOS > infos: RACF, HORARIO ENVIO\n",
    "\n",
    "            try:\n",
    "\n",
    "            #element = WebDriverWait(driver, 10).until(EC.element_to_be_clickable((By.ID, \"botaoImprimir\")))\n",
    "                element = WebDriverWait(driver, 45000).until(EC.presence_of_element_located((By.ID, \"botaoImprimir\")))\n",
    "                #element.click()\n",
    "                \n",
    "                print(\"Imprimindo...\")\n",
    "                \n",
    "                #Cria Pasta na rede para a SC:\n",
    "                criaPastaSC(index)\n",
    "                \n",
    "                #Imprime a tela através do CTRL+P:\n",
    "                driver.execute_script('window.print();')\n",
    "                sucesso = True\n",
    "                \n",
    "            except TimeoutException:\n",
    "                print(\"ID:\" + str(index))\n",
    "                print(\"Demorou mais que 45 segundos...\")\n",
    "                continue\n",
    "\n",
    "            except NoSuchElementException:\n",
    "                print(\"ID:\" + str(index))\n",
    "                print(\"Botão de Solicitar Certidão não encontrado.\")\n",
    "                continue      "
   ]
  }
 ],
 "metadata": {
  "kernelspec": {
   "display_name": "Python 3 (ipykernel)",
   "language": "python",
   "name": "python3"
  },
  "language_info": {
   "codemirror_mode": {
    "name": "ipython",
    "version": 3
   },
   "file_extension": ".py",
   "mimetype": "text/x-python",
   "name": "python",
   "nbconvert_exporter": "python",
   "pygments_lexer": "ipython3",
   "version": "3.9.7"
  }
 },
 "nbformat": 4,
 "nbformat_minor": 4
}
