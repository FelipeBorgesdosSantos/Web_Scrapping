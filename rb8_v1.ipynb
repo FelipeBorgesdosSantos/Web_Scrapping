{
 "cells": [
  {
   "cell_type": "code",
   "execution_count": 1,
   "metadata": {},
   "outputs": [],
   "source": [
    "#[8] Certidão Negativa do Imobiliário:"
   ]
  },
  {
   "cell_type": "code",
   "execution_count": 2,
   "metadata": {
    "ExecuteTime": {
     "end_time": "2021-11-25T22:09:41.708741Z",
     "start_time": "2021-11-25T22:09:28.797257Z"
    }
   },
   "outputs": [],
   "source": [
    "#Bibliotecas:\n",
    "\n",
    "#Deprecated:\n",
    "#from selenium.webdriver import Chrome\n",
    "\n",
    "#New Version: Selenium 4.0 Beta 1\n",
    "from selenium import webdriver\n",
    "from selenium.webdriver.chrome.service import Service\n",
    "from selenium.webdriver.common.by import By\n",
    "from selenium.webdriver.support import expected_conditions as EC\n",
    "from selenium.webdriver.common.action_chains import ActionChains\n",
    "from selenium.webdriver.common.keys import Keys\n",
    " \n",
    "#Options:\n",
    "from selenium.webdriver.chrome.options import Options\n",
    "\n",
    "#chrome_options.add_argument(\"--disable-extensions\")\n",
    "#chrome_options.add_argument('-headless')\n",
    "\n",
    "from selenium.webdriver.support.ui import WebDriverWait\n",
    "\n",
    "#Exceptions:\n",
    "from selenium.common.exceptions import TimeoutException\n",
    "from selenium.common.exceptions import NoSuchElementException\n",
    "\n",
    "from random import randrange       #random number (used in secs to wait - time)\n",
    "import time                        #wait to run\n",
    "from datetime import datetime      #Data/Hora de hoje\n",
    "import getpass                     #usr info\n",
    "import pandas as pd\n",
    "import json\n",
    "import os\n",
    "import glob\n",
    "import shutil"
   ]
  },
  {
   "cell_type": "code",
   "execution_count": 3,
   "metadata": {
    "ExecuteTime": {
     "end_time": "2021-11-25T22:09:41.724770Z",
     "start_time": "2021-11-25T22:09:41.710726Z"
    }
   },
   "outputs": [],
   "source": [
    "#Configurações Impressão em .pdf:\n",
    "caminho_download = 'C:\\\\Users\\\\felip\\\\Downloads'\n",
    "chrome_options = Options()\n",
    "settings = {\n",
    "       \"recentDestinations\": [{\n",
    "            \"id\": \"Save as PDF\",\n",
    "            \"origin\": \"local\",\n",
    "            \"account\": \"\",\n",
    "        }],\n",
    "        \"selectedDestinationId\": \"Save as PDF\",\n",
    "        \"version\": 2\n",
    "    }\n",
    "exclude_default_swithes = [\"disable-client-side-phishing-detection\",\n",
    "    \"safebrowsing-disable-auto-update\",\n",
    "    \"safebrowsing-disable-download-protection\",\n",
    "    \"ignore-certificate-errors\",]\n",
    "prefs = {\"plugins.always_open_pdf_externally\": True,\n",
    "        \"download.default_directory\": caminho_download,       \n",
    "        \"printing.print_preview_sticky_settings.appState\": json.dumps(settings),\n",
    "        \"savefile.default_directory\": 'C:\\\\Users\\\\felip\\\\Downloads'}     #ADD\n",
    "chrome_options.add_experimental_option(\"prefs\",prefs)\n",
    "chrome_options.add_argument('--kiosk-printing') #ADD\n",
    "chrome_options.add_experimental_option(\"excludeSwitches\", exclude_default_swithes)\n",
    "chrome_options.add_experimental_option(\"useAutomationExtension\", False)"
   ]
  },
  {
   "cell_type": "code",
   "execution_count": 4,
   "metadata": {
    "ExecuteTime": {
     "end_time": "2021-11-25T22:09:41.897267Z",
     "start_time": "2021-11-25T22:09:41.725717Z"
    }
   },
   "outputs": [],
   "source": [
    "#Cria uma pasta para a SC caso ela já não exista no sistema:\n",
    "def criaPastaSC(codigo_SC): #Captura o código da SC\n",
    "    newpath = r'C:\\\\Users\\\\felip\\\\OneDrive\\\\Área de Trabalho\\\\Documentacao\\\\Certidoes' \n",
    "    newpath = newpath + '\\\\' + codigo_SC\n",
    "    if not os.path.exists(newpath):\n",
    "        os.makedirs(newpath)"
   ]
  },
  {
   "cell_type": "code",
   "execution_count": 5,
   "metadata": {
    "ExecuteTime": {
     "end_time": "2021-11-25T22:09:42.006262Z",
     "start_time": "2021-11-25T22:09:41.899259Z"
    }
   },
   "outputs": [],
   "source": [
    "def moveCert(codigo_SC):\n",
    "#Move a certidão baixada da pasta Downloads para a pasta da SC:\n",
    "\n",
    "    #Lista os arquivos da Pasta Downloads:\n",
    "    list_of_files = glob.glob(r'C:\\Users\\felip\\Downloads\\*.pdf') # * means all if need specific format then *.csv\n",
    "    print(list_of_files)\n",
    "    \n",
    "    #Caso não exista nenhum .pdf pode dar erro!\n",
    "    #Captura o último arquivo:\n",
    "    latest_file = max(list_of_files, key=os.path.getctime)\n",
    "\n",
    "    print(latest_file)\n",
    "    \n",
    "    #Renomeia a certidão baixada para: \"Cert_Neg_Imob_SC\" + index\n",
    "     \n",
    "        #Determina a posição do corte de string (Em \"Download\\\\ no caminho da certidão baixada:\")\n",
    "    pos_fim_cut = latest_file.find(\"Downloads\\\\\")\n",
    "    pos_fim_cut = pos_fim_cut + 10\n",
    "    print(pos_fim_cut)\n",
    "        \n",
    "        #Recorta o nome da certidão baixada:\n",
    "    caminho_cert = latest_file[:pos_fim_cut]\n",
    "    print(caminho_cert)\n",
    "        \n",
    "        #Renomeia o arquivo construindo o novo caminho à certidão:\n",
    "            \n",
    "            #Extrai a data e hora de hoje: (Adiciona-se como código ao final da certidão para evitar sobreposição)\n",
    "    now = datetime.now()\n",
    "    hoje = now.strftime(\"%d/%m/%Y %H:%M:%S\") #dd/mm/yyyy hh:mm:ss\n",
    "    hoje = str(hoje).replace(\"/\",\"\").replace(\":\",\"\").replace(\" \",\"\")\n",
    "    print(hoje)\n",
    "    nv_caminho_cert = caminho_cert + \"Cert_Neg_Imob_SC\" + str(codigo_SC) + \"_\" + hoje + \".pdf\"\n",
    "    print(nv_caminho_cert)\n",
    "    os.rename(latest_file, nv_caminho_cert)\n",
    "    \n",
    "    #Move o arquivo à pasta da SC:\n",
    "    destino = \"C:\\\\Users\\\\felip\\\\OneDrive\\\\Área de Trabalho\\\\Documentacao\\\\Certidoes\\\\\"\n",
    "    destino = destino + str(codigo_SC)\n",
    "    shutil.move(nv_caminho_cert, destino)\n",
    "    \n",
    "    print(destino)"
   ]
  },
  {
   "cell_type": "code",
   "execution_count": 6,
   "metadata": {
    "ExecuteTime": {
     "end_time": "2021-11-25T22:09:42.207427Z",
     "start_time": "2021-11-25T22:09:42.007239Z"
    }
   },
   "outputs": [],
   "source": [
    "#Captura o nome do usuário:\n",
    "usr = getpass.getuser()"
   ]
  },
  {
   "cell_type": "code",
   "execution_count": 7,
   "metadata": {
    "ExecuteTime": {
     "end_time": "2021-11-25T22:09:45.188071Z",
     "start_time": "2021-11-25T22:09:42.208380Z"
    }
   },
   "outputs": [],
   "source": [
    "#INPUTS:\n",
    "df_cpf = pd.read_excel(\"C:/Users/felip/OneDrive/Área de Trabalho/Documentacao/Robos/INPUT/A_Consultar.xlsx\", engine='openpyxl')"
   ]
  },
  {
   "cell_type": "code",
   "execution_count": 8,
   "metadata": {
    "ExecuteTime": {
     "end_time": "2021-11-25T22:11:42.170602Z",
     "start_time": "2021-11-25T22:09:45.190057Z"
    }
   },
   "outputs": [
    {
     "name": "stdout",
     "output_type": "stream",
     "text": [
      "Realizando SC0\n"
     ]
    },
    {
     "name": "stderr",
     "output_type": "stream",
     "text": [
      "C:\\Users\\felip\\AppData\\Local\\Temp/ipykernel_54084/1457503195.py:24: DeprecationWarning: executable_path has been deprecated, please pass in a Service object\n",
      "  driver = webdriver.Chrome(\"chromedriver.exe\", options=chrome_options)\n"
     ]
    },
    {
     "name": "stdout",
     "output_type": "stream",
     "text": [
      "['C:\\\\Users\\\\felip\\\\Downloads\\\\doc (1).pdf', 'C:\\\\Users\\\\felip\\\\Downloads\\\\doc.pdf', 'C:\\\\Users\\\\felip\\\\Downloads\\\\Documento sem título (1).pdf', 'C:\\\\Users\\\\felip\\\\Downloads\\\\Documento sem título.pdf', 'C:\\\\Users\\\\felip\\\\Downloads\\\\doc_sujeira.pdf']\n",
      "C:\\Users\\felip\\Downloads\\doc (1).pdf\n",
      "25\n",
      "C:\\Users\\felip\\Downloads\\\n",
      "24122021230823\n",
      "C:\\Users\\felip\\Downloads\\Cert_Neg_Imob_SC0_24122021230823.pdf\n",
      "C:\\Users\\felip\\OneDrive\\Área de Trabalho\\Documentacao\\Certidoes\\0\n",
      "Realizando SC1\n",
      "['C:\\\\Users\\\\felip\\\\Downloads\\\\doc (1).pdf', 'C:\\\\Users\\\\felip\\\\Downloads\\\\doc.pdf', 'C:\\\\Users\\\\felip\\\\Downloads\\\\Documento sem título (1).pdf', 'C:\\\\Users\\\\felip\\\\Downloads\\\\Documento sem título.pdf', 'C:\\\\Users\\\\felip\\\\Downloads\\\\doc_sujeira.pdf']\n",
      "C:\\Users\\felip\\Downloads\\doc (1).pdf\n",
      "25\n",
      "C:\\Users\\felip\\Downloads\\\n",
      "24122021230836\n",
      "C:\\Users\\felip\\Downloads\\Cert_Neg_Imob_SC1_24122021230836.pdf\n",
      "C:\\Users\\felip\\OneDrive\\Área de Trabalho\\Documentacao\\Certidoes\\1\n",
      "Realizando SC2\n",
      "['C:\\\\Users\\\\felip\\\\Downloads\\\\doc (1).pdf', 'C:\\\\Users\\\\felip\\\\Downloads\\\\doc.pdf', 'C:\\\\Users\\\\felip\\\\Downloads\\\\Documento sem título (1).pdf', 'C:\\\\Users\\\\felip\\\\Downloads\\\\Documento sem título.pdf', 'C:\\\\Users\\\\felip\\\\Downloads\\\\doc_sujeira.pdf']\n",
      "C:\\Users\\felip\\Downloads\\doc (1).pdf\n",
      "25\n",
      "C:\\Users\\felip\\Downloads\\\n",
      "24122021230847\n",
      "C:\\Users\\felip\\Downloads\\Cert_Neg_Imob_SC2_24122021230847.pdf\n",
      "C:\\Users\\felip\\OneDrive\\Área de Trabalho\\Documentacao\\Certidoes\\2\n",
      "Realizando SC3\n",
      "['C:\\\\Users\\\\felip\\\\Downloads\\\\doc (1).pdf', 'C:\\\\Users\\\\felip\\\\Downloads\\\\doc.pdf', 'C:\\\\Users\\\\felip\\\\Downloads\\\\Documento sem título (1).pdf', 'C:\\\\Users\\\\felip\\\\Downloads\\\\Documento sem título.pdf', 'C:\\\\Users\\\\felip\\\\Downloads\\\\doc_sujeira.pdf']\n",
      "C:\\Users\\felip\\Downloads\\doc (1).pdf\n",
      "25\n",
      "C:\\Users\\felip\\Downloads\\\n",
      "24122021230859\n",
      "C:\\Users\\felip\\Downloads\\Cert_Neg_Imob_SC3_24122021230859.pdf\n",
      "C:\\Users\\felip\\OneDrive\\Área de Trabalho\\Documentacao\\Certidoes\\3\n",
      "Realizando SC4\n",
      "['C:\\\\Users\\\\felip\\\\Downloads\\\\doc (1).pdf', 'C:\\\\Users\\\\felip\\\\Downloads\\\\doc.pdf', 'C:\\\\Users\\\\felip\\\\Downloads\\\\Documento sem título (1).pdf', 'C:\\\\Users\\\\felip\\\\Downloads\\\\Documento sem título.pdf', 'C:\\\\Users\\\\felip\\\\Downloads\\\\doc_sujeira.pdf']\n",
      "C:\\Users\\felip\\Downloads\\doc (1).pdf\n",
      "25\n",
      "C:\\Users\\felip\\Downloads\\\n",
      "24122021230911\n",
      "C:\\Users\\felip\\Downloads\\Cert_Neg_Imob_SC4_24122021230911.pdf\n",
      "C:\\Users\\felip\\OneDrive\\Área de Trabalho\\Documentacao\\Certidoes\\4\n",
      "Realizando SC5\n",
      "['C:\\\\Users\\\\felip\\\\Downloads\\\\doc (1).pdf', 'C:\\\\Users\\\\felip\\\\Downloads\\\\doc.pdf', 'C:\\\\Users\\\\felip\\\\Downloads\\\\Documento sem título (1).pdf', 'C:\\\\Users\\\\felip\\\\Downloads\\\\Documento sem título.pdf', 'C:\\\\Users\\\\felip\\\\Downloads\\\\doc_sujeira.pdf']\n",
      "C:\\Users\\felip\\Downloads\\doc (1).pdf\n",
      "25\n",
      "C:\\Users\\felip\\Downloads\\\n",
      "24122021230922\n",
      "C:\\Users\\felip\\Downloads\\Cert_Neg_Imob_SC5_24122021230922.pdf\n",
      "C:\\Users\\felip\\OneDrive\\Área de Trabalho\\Documentacao\\Certidoes\\5\n",
      "Realizando SC6\n",
      "['C:\\\\Users\\\\felip\\\\Downloads\\\\doc (1).pdf', 'C:\\\\Users\\\\felip\\\\Downloads\\\\doc.pdf', 'C:\\\\Users\\\\felip\\\\Downloads\\\\Documento sem título (1).pdf', 'C:\\\\Users\\\\felip\\\\Downloads\\\\Documento sem título.pdf', 'C:\\\\Users\\\\felip\\\\Downloads\\\\doc_sujeira.pdf']\n",
      "C:\\Users\\felip\\Downloads\\doc (1).pdf\n",
      "25\n",
      "C:\\Users\\felip\\Downloads\\\n",
      "24122021230934\n",
      "C:\\Users\\felip\\Downloads\\Cert_Neg_Imob_SC6_24122021230934.pdf\n",
      "C:\\Users\\felip\\OneDrive\\Área de Trabalho\\Documentacao\\Certidoes\\6\n",
      "Realizando SC7\n",
      "['C:\\\\Users\\\\felip\\\\Downloads\\\\doc (1).pdf', 'C:\\\\Users\\\\felip\\\\Downloads\\\\doc.pdf', 'C:\\\\Users\\\\felip\\\\Downloads\\\\Documento sem título (1).pdf', 'C:\\\\Users\\\\felip\\\\Downloads\\\\Documento sem título.pdf', 'C:\\\\Users\\\\felip\\\\Downloads\\\\doc_sujeira.pdf']\n",
      "C:\\Users\\felip\\Downloads\\doc (1).pdf\n",
      "25\n",
      "C:\\Users\\felip\\Downloads\\\n",
      "24122021230946\n",
      "C:\\Users\\felip\\Downloads\\Cert_Neg_Imob_SC7_24122021230946.pdf\n",
      "C:\\Users\\felip\\OneDrive\\Área de Trabalho\\Documentacao\\Certidoes\\7\n",
      "Realizando SC8\n",
      "['C:\\\\Users\\\\felip\\\\Downloads\\\\doc (1).pdf', 'C:\\\\Users\\\\felip\\\\Downloads\\\\doc.pdf', 'C:\\\\Users\\\\felip\\\\Downloads\\\\Documento sem título (1).pdf', 'C:\\\\Users\\\\felip\\\\Downloads\\\\Documento sem título.pdf', 'C:\\\\Users\\\\felip\\\\Downloads\\\\doc_sujeira.pdf']\n",
      "C:\\Users\\felip\\Downloads\\doc (1).pdf\n",
      "25\n",
      "C:\\Users\\felip\\Downloads\\\n",
      "24122021230957\n",
      "C:\\Users\\felip\\Downloads\\Cert_Neg_Imob_SC8_24122021230957.pdf\n",
      "C:\\Users\\felip\\OneDrive\\Área de Trabalho\\Documentacao\\Certidoes\\8\n",
      "Realizando SC9\n",
      "['C:\\\\Users\\\\felip\\\\Downloads\\\\doc (1).pdf', 'C:\\\\Users\\\\felip\\\\Downloads\\\\doc.pdf', 'C:\\\\Users\\\\felip\\\\Downloads\\\\Documento sem título (1).pdf', 'C:\\\\Users\\\\felip\\\\Downloads\\\\Documento sem título.pdf', 'C:\\\\Users\\\\felip\\\\Downloads\\\\doc_sujeira.pdf']\n",
      "C:\\Users\\felip\\Downloads\\doc (1).pdf\n",
      "25\n",
      "C:\\Users\\felip\\Downloads\\\n",
      "24122021231009\n",
      "C:\\Users\\felip\\Downloads\\Cert_Neg_Imob_SC9_24122021231009.pdf\n",
      "C:\\Users\\felip\\OneDrive\\Área de Trabalho\\Documentacao\\Certidoes\\9\n"
     ]
    }
   ],
   "source": [
    "#Acesso ao Site:\n",
    "\n",
    "#Link para Certidão Negativa do Imobiliário:\n",
    "url = \"https://portal.cidadao.topdata-info.com.br/praiagrande/certidao_imobiliario.php\"\n",
    "\n",
    "#Varre cada CLiente/Pedido do Input:\n",
    "for index, row in df_cpf.iterrows():\n",
    "\n",
    "    #Identifica se a certidão conseguiu ser extraída atribuindo True:\n",
    "    sucesso = False\n",
    "        \n",
    "    while sucesso != True:\n",
    "        \n",
    "        print(\"Realizando SC\" + str(index))\n",
    "        #Dados do Cliente:\n",
    "        num_lanc = str(df_cpf['Num_Lancamento'][index])\n",
    "        #Tratamento da informação: Remove \".\" e \"-\" do Número do Lançamento:\n",
    "        num_lanc2 = num_lanc.replace(\".\", \"\").replace(\"-\", \"\")\n",
    "        #Remove o dígito do número de lançamento:\n",
    "        num_lanc3 = num_lanc2[:-1]\n",
    "        \n",
    "        #Inicializa o Chromedriver:\n",
    "        #s = Service('chromedriver.exe')\n",
    "        driver = webdriver.Chrome(\"chromedriver.exe\", options=chrome_options)\n",
    "        \n",
    "        #Página Alvo:\n",
    "        driver.get(url)\n",
    "        \n",
    "        #CLica na mensagem de Cookies:\n",
    "        time.sleep(1)\n",
    "        elemento = (By.ID, \"cookieAcceptBarConfirm\")\n",
    "        acesso = driver.find_element(*elemento).click()\n",
    "        driver.refresh()\n",
    "        \n",
    "        #Preenche o Número do Lançamento:\n",
    "        time.sleep(1)\n",
    "        elemento = (By.XPATH, \"/html/body/center/div[@id='geral']/div[@id='content']/div[@id='principal']/form/div[@id='formulario']/table[@class='box']/tbody/tr[@class='textoPadrao'][2]/td/input\")\n",
    "        acesso = driver.find_element(*elemento).send_keys(num_lanc3)\n",
    "                \n",
    "        #Clica no botão Pesquisar:\n",
    "        time.sleep(1)\n",
    "        elemento = (By.XPATH, \"/html/body/center/div[@id='geral']/div[@id='content']/div[@id='principal']/form/div[@id='formulario']/table[@class='box']/tbody/tr[@class='textoPadrao'][4]/td/input[@class='botao']\")\n",
    "        acesso = driver.find_element(*elemento).click()  \n",
    "        \n",
    "        #Clica no botão Impirmir:\n",
    "        time.sleep(1)\n",
    "        elemento = (By.XPATH, \"/html/body/center/div[@id='geral']/div[@id='content']/div[@id='principal']/form/div[@id='listagem_registro']/table[@class='box']/tbody/tr[5]/td/input[@class='botao']\")\n",
    "        acesso = driver.find_element(*elemento).click()\n",
    "        \n",
    "        #Cria pasta na rede para SC caso ela ainda não exista:\n",
    "        nm_pasta = str(index) + \"_rb8\"\n",
    "        criaPastaSC(str(index))\n",
    "        \n",
    "        #Move Certidão para a pasta da SC:\n",
    "        time.sleep(2)\n",
    "        #Pausa para que o Download seja completo antes de mover e renomear o arquivo da certidão:\n",
    "        moveCert(str(index))\n",
    "        sucesso = True        "
   ]
  }
 ],
 "metadata": {
  "kernelspec": {
   "display_name": "Python 3 (ipykernel)",
   "language": "python",
   "name": "python3"
  },
  "language_info": {
   "codemirror_mode": {
    "name": "ipython",
    "version": 3
   },
   "file_extension": ".py",
   "mimetype": "text/x-python",
   "name": "python",
   "nbconvert_exporter": "python",
   "pygments_lexer": "ipython3",
   "version": "3.9.7"
  }
 },
 "nbformat": 4,
 "nbformat_minor": 4
}
